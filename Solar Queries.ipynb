{
 "cells": [
  {
   "cell_type": "code",
   "execution_count": 5,
   "metadata": {
    "collapsed": false
   },
   "outputs": [],
   "source": [
    "import pandas as pd\n",
    "import numpy as np\n",
    "import cufflinks as cf\n",
    "import plotly\n",
    "import plotly.plotly as py\n",
    "from sqlalchemy import create_engine\n",
    "engine = create_engine('postgresql://localhost:5432/')\n",
    "plotly.plotly.sign_in('alexderbes', 'jd1okjy9w5')\n",
    "\n",
    "from plotly.offline import download_plotlyjs, init_notebook_mode, iplot\n",
    "from plotly.graph_objs import *\n",
    "init_notebook_mode()"
   ]
  },
  {
   "cell_type": "code",
   "execution_count": null,
   "metadata": {
    "collapsed": false
   },
   "outputs": [],
   "source": []
  },
  {
   "cell_type": "code",
   "execution_count": 6,
   "metadata": {
    "collapsed": false
   },
   "outputs": [],
   "source": [
    "inverters=pd.read_sql_query(\"\"\" select date_trunc('month', \"App Received Date\"::date) as dte, us_inverter, count(1) from gosolarview where \"App Received Date\" > '2013-01-01' group by date_trunc('month', \"App Received Date\"::date), us_inverter  order by dte\"\"\", con=engine)\n",
    "inverters['dte'] = pd.to_datetime(inverters['dte'], utc=True)"
   ]
  },
  {
   "cell_type": "code",
   "execution_count": 9,
   "metadata": {
    "collapsed": false
   },
   "outputs": [
    {
     "data": {
      "text/html": [
       "<iframe id=\"igraph\" scrolling=\"no\" style=\"border:none;\" seamless=\"seamless\" src=\"https://plot.ly/~alexderbes/33.embed\" height=\"525px\" width=\"100%\"></iframe>"
      ],
      "text/plain": [
       "<plotly.tools.PlotlyDisplay object>"
      ]
     },
     "execution_count": 9,
     "metadata": {},
     "output_type": "execute_result"
    }
   ],
   "source": [
    "# Inverters pct share\n",
    "totals = inverters.groupby('dte', as_index=False).sum()\n",
    "frm = pd.merge(inverters, totals, how='left', on='dte')\n",
    "frm['pct'] = frm['count_x'] / frm['count_y']\n",
    "pivot = frm.pivot(index='dte', columns='us_inverter', values='pct')\n",
    "py.iplot([{\n",
    "    'x': pivot.index,\n",
    "    'y': pivot[col],\n",
    "    'name': col\n",
    "}  for col in pivot.columns], filename='solar/inverters_pct')"
   ]
  },
  {
   "cell_type": "code",
   "execution_count": null,
   "metadata": {
    "collapsed": false
   },
   "outputs": [],
   "source": []
  },
  {
   "cell_type": "code",
   "execution_count": null,
   "metadata": {
    "collapsed": false
   },
   "outputs": [],
   "source": [
    "pivot = frm.pivot(index='dte', columns='us_inverter', values='count_x')\n",
    "py.iplot([{\n",
    "    'x': pivot.index,\n",
    "    'y': pivot[col],\n",
    "    'name': col\n",
    "}  for col in pivot.columns], filename='solar/inverters_abs')\n"
   ]
  },
  {
   "cell_type": "code",
   "execution_count": 17,
   "metadata": {
    "collapsed": false
   },
   "outputs": [
    {
     "data": {
      "text/html": [
       "<iframe id=\"igraph\" scrolling=\"no\" style=\"border:none;\" seamless=\"seamless\" src=\"https://plot.ly/~alexderbes/22.embed\" height=\"525px\" width=\"100%\"></iframe>"
      ],
      "text/plain": [
       "<plotly.tools.PlotlyDisplay object>"
      ]
     },
     "execution_count": 17,
     "metadata": {},
     "output_type": "execute_result"
    }
   ],
   "source": [
    "# Installers \n",
    "installers=pd.read_sql_query(\"\"\" select date_trunc('month', \"App Received Date\"::date) as dte, us_installer, count(1) from gosolarview where \"App Received Date\" > '2013-01-01' and \"Customer Sector\" = 'Residential' group by date_trunc('month', \"App Received Date\"::date), us_installer  order by dte\"\"\", con=engine)\n",
    "installers['dte'] = pd.to_datetime(installers['dte'], utc=True)\n",
    "totals = installers.groupby('dte', as_index=False).sum()\n",
    "frm = pd.merge(installers, totals, how='left', on='dte')\n",
    "frm['pct'] = frm['count_x'] / frm['count_y']\n",
    "pivot = frm.pivot(index='dte', columns='us_installer', values='pct')\n",
    "py.iplot([{\n",
    "    'x': pivot.index,\n",
    "    'y': pivot[col],\n",
    "    'name': col\n",
    "}  for col in pivot.columns], filename='solar/inverters')"
   ]
  },
  {
   "cell_type": "code",
   "execution_count": null,
   "metadata": {
    "collapsed": false
   },
   "outputs": [],
   "source": [
    "installers"
   ]
  },
  {
   "cell_type": "code",
   "execution_count": null,
   "metadata": {
    "collapsed": false
   },
   "outputs": [],
   "source": [
    "# Installers \n",
    "pivot = installers.pivot(index='dte', columns='us_installer', values='count')\n",
    "py.iplot([{\n",
    "    'x': pivot.index,\n",
    "    'y': pivot[col],\n",
    "    'name': col\n",
    "}  for col in pivot.columns], filename='solar/inverters')\n"
   ]
  },
  {
   "cell_type": "code",
   "execution_count": 12,
   "metadata": {
    "collapsed": false
   },
   "outputs": [],
   "source": [
    "installer_inverter=pd.read_sql_query(\"\"\"select date_trunc('month', \"App Received Date\"::date) as dte, us_installer, us_inverter, count(1) from gosolarview where \"App Received Date\" > '2013-01-01' group by date_trunc('month', \"App Received Date\"::date), us_installer, us_inverter  order by dte\"\"\", con=engine)\n",
    "installer_inverter['dte'] = pd.to_datetime(installer_inverter['dte'], utc=True)\n"
   ]
  },
  {
   "cell_type": "code",
   "execution_count": 16,
   "metadata": {
    "collapsed": false
   },
   "outputs": [
    {
     "data": {
      "text/html": [
       "<div id=\"8b20c5c8-0625-47b4-8b6c-236dbaff6480\" style=\"height: 525; width: 100%;\" class=\"plotly-graph-div\"></div><script type=\"text/javascript\">require([\"plotly\"], function(Plotly) { window.PLOTLYENV=window.PLOTLYENV || {};window.PLOTLYENV.BASE_URL=\"https://plot.ly\";Plotly.newPlot(\"8b20c5c8-0625-47b4-8b6c-236dbaff6480\", [{\"y\": [92.0, 62.0, null, null, null, null, null, null, null, null, null, null, null, null, null, null, null, null, null, null, null, 1.0, null, 2.0, null, null, 1.0, null, null, null, null, null, null, null, null, null, null, 17.0], \"x\": [\"2013-01-01 08:00:00\", \"2013-02-01 08:00:00\", \"2013-03-01 08:00:00\", \"2013-04-01 07:00:00\", \"2013-05-01 07:00:00\", \"2013-06-01 07:00:00\", \"2013-07-01 07:00:00\", \"2013-08-01 07:00:00\", \"2013-09-01 07:00:00\", \"2013-10-01 07:00:00\", \"2013-11-01 07:00:00\", \"2013-12-01 08:00:00\", \"2014-01-01 08:00:00\", \"2014-02-01 08:00:00\", \"2014-03-01 08:00:00\", \"2014-04-01 07:00:00\", \"2014-05-01 07:00:00\", \"2014-06-01 07:00:00\", \"2014-07-01 07:00:00\", \"2014-08-01 07:00:00\", \"2014-09-01 07:00:00\", \"2014-10-01 07:00:00\", \"2014-11-01 07:00:00\", \"2014-12-01 08:00:00\", \"2015-01-01 08:00:00\", \"2015-02-01 08:00:00\", \"2015-03-01 08:00:00\", \"2015-04-01 07:00:00\", \"2015-05-01 07:00:00\", \"2015-06-01 07:00:00\", \"2015-07-01 07:00:00\", \"2015-08-01 07:00:00\", \"2015-09-01 07:00:00\", \"2015-10-01 07:00:00\", \"2015-11-01 07:00:00\", \"2015-12-01 08:00:00\", \"2016-01-01 08:00:00\", \"2016-02-01 08:00:00\"], \"name\": null}, {\"y\": [null, null, null, null, null, null, null, null, null, null, null, null, null, null, null, null, null, null, null, null, null, null, null, null, null, null, null, null, null, null, null, null, null, null, 1.0, null, null, null], \"x\": [\"2013-01-01 08:00:00\", \"2013-02-01 08:00:00\", \"2013-03-01 08:00:00\", \"2013-04-01 07:00:00\", \"2013-05-01 07:00:00\", \"2013-06-01 07:00:00\", \"2013-07-01 07:00:00\", \"2013-08-01 07:00:00\", \"2013-09-01 07:00:00\", \"2013-10-01 07:00:00\", \"2013-11-01 07:00:00\", \"2013-12-01 08:00:00\", \"2014-01-01 08:00:00\", \"2014-02-01 08:00:00\", \"2014-03-01 08:00:00\", \"2014-04-01 07:00:00\", \"2014-05-01 07:00:00\", \"2014-06-01 07:00:00\", \"2014-07-01 07:00:00\", \"2014-08-01 07:00:00\", \"2014-09-01 07:00:00\", \"2014-10-01 07:00:00\", \"2014-11-01 07:00:00\", \"2014-12-01 08:00:00\", \"2015-01-01 08:00:00\", \"2015-02-01 08:00:00\", \"2015-03-01 08:00:00\", \"2015-04-01 07:00:00\", \"2015-05-01 07:00:00\", \"2015-06-01 07:00:00\", \"2015-07-01 07:00:00\", \"2015-08-01 07:00:00\", \"2015-09-01 07:00:00\", \"2015-10-01 07:00:00\", \"2015-11-01 07:00:00\", \"2015-12-01 08:00:00\", \"2016-01-01 08:00:00\", \"2016-02-01 08:00:00\"], \"name\": \"ABB\"}, {\"y\": [127.0, 214.0, 289.0, 96.0, 140.0, 101.0, 1291.0, 506.0, 603.0, 206.0, 890.0, 347.0, 464.0, 293.0, 454.0, 565.0, 781.0, 622.0, 718.0, 959.0, 1631.0, 872.0, 667.0, 815.0, 501.0, 530.0, 606.0, 486.0, 518.0, 422.0, 404.0, 386.0, 513.0, 671.0, 479.0, 569.0, 606.0, 650.0], \"x\": [\"2013-01-01 08:00:00\", \"2013-02-01 08:00:00\", \"2013-03-01 08:00:00\", \"2013-04-01 07:00:00\", \"2013-05-01 07:00:00\", \"2013-06-01 07:00:00\", \"2013-07-01 07:00:00\", \"2013-08-01 07:00:00\", \"2013-09-01 07:00:00\", \"2013-10-01 07:00:00\", \"2013-11-01 07:00:00\", \"2013-12-01 08:00:00\", \"2014-01-01 08:00:00\", \"2014-02-01 08:00:00\", \"2014-03-01 08:00:00\", \"2014-04-01 07:00:00\", \"2014-05-01 07:00:00\", \"2014-06-01 07:00:00\", \"2014-07-01 07:00:00\", \"2014-08-01 07:00:00\", \"2014-09-01 07:00:00\", \"2014-10-01 07:00:00\", \"2014-11-01 07:00:00\", \"2014-12-01 08:00:00\", \"2015-01-01 08:00:00\", \"2015-02-01 08:00:00\", \"2015-03-01 08:00:00\", \"2015-04-01 07:00:00\", \"2015-05-01 07:00:00\", \"2015-06-01 07:00:00\", \"2015-07-01 07:00:00\", \"2015-08-01 07:00:00\", \"2015-09-01 07:00:00\", \"2015-10-01 07:00:00\", \"2015-11-01 07:00:00\", \"2015-12-01 08:00:00\", \"2016-01-01 08:00:00\", \"2016-02-01 08:00:00\"], \"name\": \"ENPH\"}, {\"y\": [null, null, null, null, null, null, null, null, null, null, null, null, null, null, null, null, null, null, null, null, null, null, 11.0, 5.0, 2.0, null, 1.0, 1.0, 1.0, null, 3.0, 3.0, 3.0, 7.0, 5.0, 12.0, 58.0, 68.0], \"x\": [\"2013-01-01 08:00:00\", \"2013-02-01 08:00:00\", \"2013-03-01 08:00:00\", \"2013-04-01 07:00:00\", \"2013-05-01 07:00:00\", \"2013-06-01 07:00:00\", \"2013-07-01 07:00:00\", \"2013-08-01 07:00:00\", \"2013-09-01 07:00:00\", \"2013-10-01 07:00:00\", \"2013-11-01 07:00:00\", \"2013-12-01 08:00:00\", \"2014-01-01 08:00:00\", \"2014-02-01 08:00:00\", \"2014-03-01 08:00:00\", \"2014-04-01 07:00:00\", \"2014-05-01 07:00:00\", \"2014-06-01 07:00:00\", \"2014-07-01 07:00:00\", \"2014-08-01 07:00:00\", \"2014-09-01 07:00:00\", \"2014-10-01 07:00:00\", \"2014-11-01 07:00:00\", \"2014-12-01 08:00:00\", \"2015-01-01 08:00:00\", \"2015-02-01 08:00:00\", \"2015-03-01 08:00:00\", \"2015-04-01 07:00:00\", \"2015-05-01 07:00:00\", \"2015-06-01 07:00:00\", \"2015-07-01 07:00:00\", \"2015-08-01 07:00:00\", \"2015-09-01 07:00:00\", \"2015-10-01 07:00:00\", \"2015-11-01 07:00:00\", \"2015-12-01 08:00:00\", \"2016-01-01 08:00:00\", \"2016-02-01 08:00:00\"], \"name\": \"Fronius\"}, {\"y\": [null, null, null, null, null, null, null, null, null, null, null, null, null, null, null, null, null, null, null, null, null, null, null, null, null, null, 1.0, 1.0, 23.0, null, null, null, null, null, null, null, null, null], \"x\": [\"2013-01-01 08:00:00\", \"2013-02-01 08:00:00\", \"2013-03-01 08:00:00\", \"2013-04-01 07:00:00\", \"2013-05-01 07:00:00\", \"2013-06-01 07:00:00\", \"2013-07-01 07:00:00\", \"2013-08-01 07:00:00\", \"2013-09-01 07:00:00\", \"2013-10-01 07:00:00\", \"2013-11-01 07:00:00\", \"2013-12-01 08:00:00\", \"2014-01-01 08:00:00\", \"2014-02-01 08:00:00\", \"2014-03-01 08:00:00\", \"2014-04-01 07:00:00\", \"2014-05-01 07:00:00\", \"2014-06-01 07:00:00\", \"2014-07-01 07:00:00\", \"2014-08-01 07:00:00\", \"2014-09-01 07:00:00\", \"2014-10-01 07:00:00\", \"2014-11-01 07:00:00\", \"2014-12-01 08:00:00\", \"2015-01-01 08:00:00\", \"2015-02-01 08:00:00\", \"2015-03-01 08:00:00\", \"2015-04-01 07:00:00\", \"2015-05-01 07:00:00\", \"2015-06-01 07:00:00\", \"2015-07-01 07:00:00\", \"2015-08-01 07:00:00\", \"2015-09-01 07:00:00\", \"2015-10-01 07:00:00\", \"2015-11-01 07:00:00\", \"2015-12-01 08:00:00\", \"2016-01-01 08:00:00\", \"2016-02-01 08:00:00\"], \"name\": \"OTHER\"}, {\"y\": [null, null, null, null, null, null, null, null, null, null, null, null, 1.0, null, null, null, null, null, 1.0, null, 1.0, null, null, null, null, null, null, null, null, null, null, null, null, null, null, null, null, null], \"x\": [\"2013-01-01 08:00:00\", \"2013-02-01 08:00:00\", \"2013-03-01 08:00:00\", \"2013-04-01 07:00:00\", \"2013-05-01 07:00:00\", \"2013-06-01 07:00:00\", \"2013-07-01 07:00:00\", \"2013-08-01 07:00:00\", \"2013-09-01 07:00:00\", \"2013-10-01 07:00:00\", \"2013-11-01 07:00:00\", \"2013-12-01 08:00:00\", \"2014-01-01 08:00:00\", \"2014-02-01 08:00:00\", \"2014-03-01 08:00:00\", \"2014-04-01 07:00:00\", \"2014-05-01 07:00:00\", \"2014-06-01 07:00:00\", \"2014-07-01 07:00:00\", \"2014-08-01 07:00:00\", \"2014-09-01 07:00:00\", \"2014-10-01 07:00:00\", \"2014-11-01 07:00:00\", \"2014-12-01 08:00:00\", \"2015-01-01 08:00:00\", \"2015-02-01 08:00:00\", \"2015-03-01 08:00:00\", \"2015-04-01 07:00:00\", \"2015-05-01 07:00:00\", \"2015-06-01 07:00:00\", \"2015-07-01 07:00:00\", \"2015-08-01 07:00:00\", \"2015-09-01 07:00:00\", \"2015-10-01 07:00:00\", \"2015-11-01 07:00:00\", \"2015-12-01 08:00:00\", \"2016-01-01 08:00:00\", \"2016-02-01 08:00:00\"], \"name\": \"POWERONE\"}, {\"y\": [null, null, null, null, null, null, null, null, 1.0, null, null, null, null, null, null, null, null, null, null, null, null, 19.0, 16.0, 120.0, 68.0, 171.0, 395.0, 417.0, 540.0, 563.0, 539.0, 397.0, 318.0, 277.0, 245.0, 237.0, 237.0, 220.0], \"x\": [\"2013-01-01 08:00:00\", \"2013-02-01 08:00:00\", \"2013-03-01 08:00:00\", \"2013-04-01 07:00:00\", \"2013-05-01 07:00:00\", \"2013-06-01 07:00:00\", \"2013-07-01 07:00:00\", \"2013-08-01 07:00:00\", \"2013-09-01 07:00:00\", \"2013-10-01 07:00:00\", \"2013-11-01 07:00:00\", \"2013-12-01 08:00:00\", \"2014-01-01 08:00:00\", \"2014-02-01 08:00:00\", \"2014-03-01 08:00:00\", \"2014-04-01 07:00:00\", \"2014-05-01 07:00:00\", \"2014-06-01 07:00:00\", \"2014-07-01 07:00:00\", \"2014-08-01 07:00:00\", \"2014-09-01 07:00:00\", \"2014-10-01 07:00:00\", \"2014-11-01 07:00:00\", \"2014-12-01 08:00:00\", \"2015-01-01 08:00:00\", \"2015-02-01 08:00:00\", \"2015-03-01 08:00:00\", \"2015-04-01 07:00:00\", \"2015-05-01 07:00:00\", \"2015-06-01 07:00:00\", \"2015-07-01 07:00:00\", \"2015-08-01 07:00:00\", \"2015-09-01 07:00:00\", \"2015-10-01 07:00:00\", \"2015-11-01 07:00:00\", \"2015-12-01 08:00:00\", \"2016-01-01 08:00:00\", \"2016-02-01 08:00:00\"], \"name\": \"SEDG\"}, {\"y\": [null, null, null, null, null, null, null, null, null, null, null, null, null, null, 2.0, 1.0, null, null, null, null, null, null, 1.0, null, null, 1.0, null, null, null, null, null, null, null, null, null, null, null, null], \"x\": [\"2013-01-01 08:00:00\", \"2013-02-01 08:00:00\", \"2013-03-01 08:00:00\", \"2013-04-01 07:00:00\", \"2013-05-01 07:00:00\", \"2013-06-01 07:00:00\", \"2013-07-01 07:00:00\", \"2013-08-01 07:00:00\", \"2013-09-01 07:00:00\", \"2013-10-01 07:00:00\", \"2013-11-01 07:00:00\", \"2013-12-01 08:00:00\", \"2014-01-01 08:00:00\", \"2014-02-01 08:00:00\", \"2014-03-01 08:00:00\", \"2014-04-01 07:00:00\", \"2014-05-01 07:00:00\", \"2014-06-01 07:00:00\", \"2014-07-01 07:00:00\", \"2014-08-01 07:00:00\", \"2014-09-01 07:00:00\", \"2014-10-01 07:00:00\", \"2014-11-01 07:00:00\", \"2014-12-01 08:00:00\", \"2015-01-01 08:00:00\", \"2015-02-01 08:00:00\", \"2015-03-01 08:00:00\", \"2015-04-01 07:00:00\", \"2015-05-01 07:00:00\", \"2015-06-01 07:00:00\", \"2015-07-01 07:00:00\", \"2015-08-01 07:00:00\", \"2015-09-01 07:00:00\", \"2015-10-01 07:00:00\", \"2015-11-01 07:00:00\", \"2015-12-01 08:00:00\", \"2016-01-01 08:00:00\", \"2016-02-01 08:00:00\"], \"name\": \"SMA\"}], {}, {\"linkText\": \"Export to plot.ly\", \"showLink\": true})});</script>"
      ],
      "text/plain": [
       "<IPython.core.display.HTML object>"
      ]
     },
     "metadata": {},
     "output_type": "display_data"
    }
   ],
   "source": [
    "#i = 'SCTY'\n",
    "#frm = installer_inverter[ installer_inverter['us_installer'] == i]\n",
    "#frm.pivot(index='dte', columns='us_inverter', values='count')\n",
    "#installer_inverter['us_installer'].unique()\n",
    "\n",
    "installers = [u'OTHER', u'RUN', u'SCTY', u'Sungevity', u'Sunpower', u'VERENGO',\n",
    "       u'VSLR']\n",
    "\n",
    "installers = ['VSLR']\n",
    "\n",
    "#installer_inverter = installer_inverter.set_index('dte')\n",
    "for i in installers:\n",
    "    frm = installer_inverter[ installer_inverter['us_installer'] == i]\n",
    "    pivot = frm.pivot(index='dte', columns='us_inverter', values='count')\n",
    "    plotly.offline.iplot([{\n",
    "    'x': pivot.index,\n",
    "    'y': pivot[col],\n",
    "    'name': col\n",
    "}  for col in pivot.columns])\n",
    "    "
   ]
  },
  {
   "cell_type": "code",
   "execution_count": null,
   "metadata": {
    "collapsed": false
   },
   "outputs": [],
   "source": [
    "frm"
   ]
  },
  {
   "cell_type": "code",
   "execution_count": null,
   "metadata": {
    "collapsed": false
   },
   "outputs": [],
   "source": [
    "installer_inverter.pivot(index='dte', columns='us_installer', values='count')"
   ]
  },
  {
   "cell_type": "code",
   "execution_count": null,
   "metadata": {
    "collapsed": false
   },
   "outputs": [],
   "source": [
    "installer_inverter.scatter_matrix(filename='test')"
   ]
  },
  {
   "cell_type": "code",
   "execution_count": null,
   "metadata": {
    "collapsed": false
   },
   "outputs": [],
   "source": []
  },
  {
   "cell_type": "code",
   "execution_count": null,
   "metadata": {
    "collapsed": true
   },
   "outputs": [],
   "source": []
  }
 ],
 "metadata": {
  "kernelspec": {
   "display_name": "Python 2",
   "language": "python",
   "name": "python2"
  },
  "language_info": {
   "codemirror_mode": {
    "name": "ipython",
    "version": 2
   },
   "file_extension": ".py",
   "mimetype": "text/x-python",
   "name": "python",
   "nbconvert_exporter": "python",
   "pygments_lexer": "ipython2",
   "version": "2.7.11"
  }
 },
 "nbformat": 4,
 "nbformat_minor": 0
}
